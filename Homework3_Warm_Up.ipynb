{
  "cells": [
    {
      "cell_type": "markdown",
      "metadata": {
        "id": "view-in-github",
        "colab_type": "text"
      },
      "source": [
        "<a href=\"https://colab.research.google.com/github/shubham13596/Stanford-CS224S/blob/main/CS224S_HW3_Warm_Up_2025.ipynb\" target=\"_parent\"><img src=\"https://colab.research.google.com/assets/colab-badge.svg\" alt=\"Open In Colab\"/></a>"
      ]
    },
    {
      "cell_type": "markdown",
      "metadata": {
        "id": "YLKl4jO26g3n"
      },
      "source": [
        "#CS224S Assignment 3 Warm Up\n",
        "##HarperValleyBank Data Exploration & CTC Implementation\n"
      ]
    },
    {
      "cell_type": "markdown",
      "metadata": {
        "id": "fsDEnqEEtFMp"
      },
      "source": [
        "This notebook is worth 60 points out of the total 160 points for Homework 3. Don't forget to work on the neural network training Colab after this one! See the assignment handout on the course website for submission instructions."
      ]
    },
    {
      "cell_type": "markdown",
      "metadata": {
        "id": "rh8A_5L1dq6-"
      },
      "source": [
        "## Setup for Google Drive and Required Libraries\n",
        "\n",
        "You will need to make a copy of this Colab notebook in your Google Drive before you can edit the homework files.\n",
        "\n",
        "You can do so with **File &rarr; Save a copy in Drive**.\n"
      ]
    },
    {
      "cell_type": "code",
      "execution_count": 1,
      "metadata": {
        "id": "M9ahWfoydgHv",
        "colab": {
          "base_uri": "https://localhost:8080/"
        },
        "outputId": "0ff5cd16-6e46-4c7a-c2df-a746e6743dfd"
      },
      "outputs": [
        {
          "output_type": "stream",
          "name": "stdout",
          "text": [
            "Mounted at /content/gdrive\n",
            "Linked /content/HW3_data →\n",
            "       /content/gdrive/MyDrive/cs224s_spring2025\n"
          ]
        }
      ],
      "source": [
        "import os\n",
        "from google.colab import drive\n",
        "\n",
        "drive.mount('/content/gdrive', force_remount=True)\n",
        "\n",
        "\n",
        "DRIVE_PATH = '/content/gdrive/MyDrive/cs224s_spring2025'\n",
        "DRIVE_PYTHON_PATH = DRIVE_PATH.replace('\\\\', '')\n",
        "if not os.path.exists(DRIVE_PYTHON_PATH):\n",
        "  %mkdir $DRIVE_PATH\n",
        "\n",
        "SYM_PATH = '/content/cs224s_spring2025'\n",
        "if not os.path.exists(SYM_PATH):\n",
        "  !ln -s $DRIVE_PATH $SYM_PATH\n",
        "\n",
        "if not os.path.isdir(DRIVE_PATH):\n",
        "    raise FileNotFoundError(f\"Cannot find folder at {DRIVE_PATH}\")\n",
        "\n",
        "SYM_PATH = '/content/HW3_data'\n",
        "\n",
        "if os.path.lexists(SYM_PATH):\n",
        "    os.remove(SYM_PATH)\n",
        "\n",
        "os.symlink(DRIVE_PATH, SYM_PATH)\n",
        "print(f\"Linked {SYM_PATH} →\")\n",
        "print(f\"       {os.readlink(SYM_PATH)}\")\n"
      ]
    },
    {
      "cell_type": "code",
      "execution_count": 2,
      "metadata": {
        "id": "S3CzA2i4g_Jk",
        "colab": {
          "base_uri": "https://localhost:8080/"
        },
        "outputId": "cf3a8bc6-19b4-4018-e945-59823aff648a"
      },
      "outputs": [
        {
          "output_type": "stream",
          "name": "stdout",
          "text": [
            "/content/gdrive/MyDrive/cs224s_spring2025/data\n"
          ]
        }
      ],
      "source": [
        "#@title Download HarperValleyBank dataset\n",
        "#@markdown It takes ~10 minutes to download the dataset. You only need to do this once!\n",
        "\n",
        "DATA_PATH = '{}/data'.format(SYM_PATH)\n",
        "if not os.path.exists(DATA_PATH):\n",
        "  %mkdir $DATA_PATH\n",
        "%cd $DATA_PATH\n",
        "if not os.path.exists(os.path.join(DATA_PATH, 'harpervalleybank')):\n",
        "  !wget -q http://web.stanford.edu/class/cs224s/download/harpervalleybank.zip\n",
        "  !unzip -q harpervalleybank.zip\n",
        "  %rm harpervalleybank.zip"
      ]
    },
    {
      "cell_type": "code",
      "execution_count": 7,
      "metadata": {
        "id": "jjUD2H-wyEYA",
        "colab": {
          "base_uri": "https://localhost:8080/"
        },
        "outputId": "70e29269-5fc5-445a-fcc2-cab57112ff14"
      },
      "outputs": [
        {
          "output_type": "stream",
          "name": "stderr",
          "text": [
            "[nltk_data] Downloading package punkt to /root/nltk_data...\n",
            "[nltk_data]   Unzipping tokenizers/punkt.zip.\n"
          ]
        }
      ],
      "source": [
        "#@title Import packages\n",
        "import nltk\n",
        "nltk.download('punkt')\n",
        "from nltk.tokenize import word_tokenize\n",
        "\n",
        "import json\n",
        "import numpy as np\n",
        "from scipy.fftpack import fft\n",
        "from scipy import signal\n",
        "from scipy.io import wavfile\n",
        "import librosa\n",
        "import matplotlib.pyplot as plt\n",
        "from typing import Tuple\n",
        "import torch"
      ]
    },
    {
      "cell_type": "markdown",
      "metadata": {
        "id": "Y8yumkFH7EVL"
      },
      "source": [
        "## Part 1:  HarperValleyBank Dataset Exploration\n",
        "\n",
        "Let's first explore the [HarperValleyBank](https://arxiv.org/abs/2010.13929) dataset! The dataset primarily consists of simulated telephone/app-based consumer to banker interactions. For any new dataset, it is generally a good idea to explore the \"shape\" and \"properties\" of the data. This will help greatly when debugging unexpected behavior in your speech system.\n",
        "\n",
        "\n",
        "\n",
        "\n"
      ]
    },
    {
      "cell_type": "markdown",
      "metadata": {
        "id": "Qa4lP4mUem9Y"
      },
      "source": [
        "## Getting Corpus Statistics\n",
        "\n",
        "The structure of the HarperValleyBank dataset is:\n",
        "```\n",
        "data\n",
        "    audio\n",
        "        agent\n",
        "            <sid1>.wav\n",
        "            <sid2>.wav\n",
        "            ...\n",
        "        caller\n",
        "            <sid1>.wav\n",
        "            <sid2>.wav\n",
        "            ...\n",
        "    metadata\n",
        "        <sid1>.json\n",
        "        <sid2>.json\n",
        "        ...\n",
        "    transcript\n",
        "        <sid1>.json\n",
        "        <sid2>.json\n",
        "        ...\n",
        "```\n",
        "Every consumer-banker conversation has an id referred to as `sid ` .  All associated files are named based on that sid.\n",
        "\n",
        "For every conversation, there are four files:\n",
        "\n",
        "- Two single-channel audio files\n",
        "- One transcript file\n",
        "- One metadata file\n",
        "\n",
        "The audio files are stored separately under the audio/agent and audio/caller directories.\n",
        "\n",
        "\n",
        "##### <ins>**Task 1.1.1**</ins>: **Number of conversations** **(2 points)**\n",
        "\n",
        "Fill in the function number_of_conversations to compute the total number of conversations in the dataset.\n",
        "\n",
        "(Hint: this can be done in just one line of code)\n"
      ]
    },
    {
      "cell_type": "code",
      "execution_count": 6,
      "metadata": {
        "id": "X1YetAUB1UxB",
        "colab": {
          "base_uri": "https://localhost:8080/"
        },
        "outputId": "eed5dbd9-816d-42e9-8e26-a5d2cf059b7e"
      },
      "outputs": [
        {
          "output_type": "stream",
          "name": "stdout",
          "text": [
            "Number of conversations: 1446\n"
          ]
        }
      ],
      "source": [
        "\n",
        "BASE = os.path.join(SYM_PATH, 'data', 'harpervalleybank')\n",
        "\n",
        "agent_audio_path  = os.path.join(BASE, 'audio')           # contains 'agent/' & 'caller/'\n",
        "caller_audio_path = os.path.join(BASE, 'audio', 'caller')\n",
        "transcript_path   = os.path.join(BASE, 'transcript')\n",
        "metadata_path     = os.path.join(BASE, 'metadata')\n",
        "\n",
        "def number_of_conversations(path: str) -> int:\n",
        "  \"\"\"Gets number of conversations in the dataset.\n",
        "\n",
        "  Args:\n",
        "    path: Path to relevant directory.\n",
        "\n",
        "  Returns:\n",
        "    Number of conversations.\n",
        "  \"\"\"\n",
        "  #############################\n",
        "  #### YOUR CODE GOES HERE ####\n",
        "  return len([name for name in os.listdir(path)])\n",
        "\n",
        "  ############################\n",
        "\n",
        "path = transcript_path\n",
        "print('Number of conversations: ' + str(number_of_conversations(path)))"
      ]
    },
    {
      "cell_type": "markdown",
      "metadata": {
        "id": "Sp5LIYu17jAN"
      },
      "source": [
        "##### <ins>**Task 1.1</ins>: Plot call duration (5 points)**\n",
        "\n",
        "- Fill out the function `recording_time` to get the duration of recording in seconds and\n",
        "- Plot a histogram with duration of recording (in seconds) as x-axis and count of conversations as y-axis. You can use `wavfile.read()` method.\n",
        "\n",
        "For a single conversation, there are two audio files: `caller` and `agent` audio files. Both audio files for the same conversation have the same duration of recording because the other person's voice is replaced with silence. Thus, you can choose either caller or agent directory to get the total duration or recording.\n"
      ]
    },
    {
      "cell_type": "code",
      "execution_count": 8,
      "metadata": {
        "id": "DrIXf9Kf7mBT",
        "colab": {
          "base_uri": "https://localhost:8080/",
          "height": 505
        },
        "outputId": "7c222399-552f-4555-eefb-2f0f0de5f6bb"
      },
      "outputs": [
        {
          "output_type": "stream",
          "name": "stdout",
          "text": [
            "Duration of recordings in seconds: 170318.28000000014\n"
          ]
        },
        {
          "output_type": "display_data",
          "data": {
            "text/plain": [
              "<Figure size 640x480 with 1 Axes>"
            ],
            "image/png": "[encoded data removed]"
          },
          "metadata": {}
        }
      ],
      "source": [
        "def recording_time(path_dir: str) -> Tuple[float, np.ndarray]:\n",
        "    \"\"\"Gets duration of recording\n",
        "    Args:\n",
        "        path_dir: Path to relevant directory.\n",
        "\n",
        "    Returns:\n",
        "        Duration of total recording in seconds (float),\n",
        "        Numpy array of duration of recording for all conversations\n",
        "    \"\"\"\n",
        "    total_duration, durations = 0.0, []\n",
        "\n",
        "    # scan each entry in path_dir\n",
        "    for entry in os.listdir(path_dir):\n",
        "        entry_path = os.path.join(path_dir, entry)\n",
        "\n",
        "        # if this is a subfolder, look inside for .wav files\n",
        "        if os.path.isdir(entry_path):\n",
        "            for fname in os.listdir(entry_path):\n",
        "                if not fname.lower().endswith('.wav'):\n",
        "                    continue\n",
        "                wav_path = os.path.join(entry_path, fname)\n",
        "                sr, data = wavfile.read(wav_path)\n",
        "                dur = data.shape[0] / float(sr)\n",
        "                total_duration += dur\n",
        "                durations.append(dur)\n",
        "\n",
        "        # if a .wav file lives at the top level\n",
        "        elif entry.lower().endswith('.wav'):\n",
        "            sr, data = wavfile.read(entry_path)\n",
        "            dur = data.shape[0] / float(sr)\n",
        "            total_duration += dur\n",
        "            durations.append(dur)\n",
        "\n",
        "    return total_duration, np.array(durations)\n",
        "\n",
        "\n",
        "# --- Usage ---\n",
        "\n",
        "path_agent  = agent_audio_path\n",
        "path_caller = caller_audio_path\n",
        "\n",
        "print(\"Duration of recordings in seconds:\", recording_time(path_agent)[0])\n",
        "\n",
        "# Plot histogram: X - Duration of individual files, Y - Count of files\n",
        "_, duration_all = recording_time(path_agent)\n",
        "plt.hist(duration_all, bins=30)\n",
        "plt.xlabel('Duration in seconds')\n",
        "plt.ylabel('Frequency')\n",
        "plt.title('Agent Audio Durations')\n",
        "plt.tight_layout()\n",
        "plt.show()\n"
      ]
    },
    {
      "cell_type": "markdown",
      "metadata": {
        "id": "fZh40UnlBgev"
      },
      "source": [
        "## Transcript Analysis\n",
        "\n",
        "**Transcripts:** The transcript json files are lists of segments where each segment is a json object with the following schema:\n",
        "\n",
        "```json\n",
        "{\n",
        "    \"channel_index\": 2,\n",
        "    \"dialog_acts\": [\n",
        "        \"gridspace_greeting\"\n",
        "    ],\n",
        "    \"duration_ms\": 2280,\n",
        "    \"emotion\": {\n",
        "        \"neutral\": 0.33766093850135803,\n",
        "        \"negative\": 0.024230705574154854,\n",
        "        \"positive\": 0.6381083130836487\n",
        "    },\n",
        "    \"human_transcript\": \"hello this is harper valley national bank\",\n",
        "    \"index\": 1,\n",
        "    \"offset_ms\": 5990,\n",
        "    \"speaker_role\": \"agent\",\n",
        "    \"start_ms\": 3990,\n",
        "    \"start_timestamp_ms\": 1591056064136,\n",
        "    \"transcript\": \"hello this is harper valley national bank\",\n",
        "    \"word_durations_ms\": [\n",
        "        330,\n",
        "        150,\n",
        "        120,\n",
        "        330,\n",
        "        270,\n",
        "        420,\n",
        "        330\n",
        "    ],\n",
        "    \"word_offsets_ms\": [\n",
        "        0,\n",
        "        660,\n",
        "        810,\n",
        "        930,\n",
        "        1260,\n",
        "        1530,\n",
        "        1950\n",
        "    ]\n",
        "}\n",
        "```\n",
        "The fields we will closely analyze for inference are:\n",
        "\n",
        "- **\"human_transcript\":** A human-corrected version of the machine generated \"transcript\".\n",
        "\n",
        "- **\"emotion\":** A softmax distribution over three categories (positive, negative, neutral) outputted by the Gridspace's Emotion model. This indicates the emotional tone of the utterance.\n",
        "\n",
        "- **\"dialog_acts\":** A list of dialog act tags assigned to the utterance, identifying the type of conversational move\n",
        "  - There are 16 possible dialog actions\n",
        "  - Multiple dialog acts can be assigned to a single utterance.\n",
        "  - The 16 dialog acts are:\n",
        "    “yes” response, greeting, response, data confirmation, procedure explanation, data question, closing, data communication, “bear with me” response, acknowledgement, data response, filler disfluency, thanks, open question, problem description, and other.\n",
        "\n"
      ]
    },
    {
      "cell_type": "markdown",
      "metadata": {
        "id": "pW59u7UqBwRo"
      },
      "source": [
        "##### <ins>**Task 1.2**</ins>**: Transcript Statistics (5 points)**\n",
        "\n",
        "Load all transcript json files using `json.load()` and fill out the function `transcript_statistics` to get the following statistics:\n",
        "- Total number of utterances\n",
        "- Mean number of agent utterances per conversation\n",
        "- Mean number of caller utterances per conversation\n",
        "- Total number of words: Keep in mind that \"[\", \"]\", \"<\", \">\" aren't considered as words.\n",
        "- Number of unique words\n",
        "\n",
        "You can get the text of the audio file by looking at the **\"human_transcript\"** field for each transcript. You can use `word_tokenize` function from `nltk.tokenize`.  "
      ]
    },
    {
      "cell_type": "code",
      "execution_count": 9,
      "metadata": {
        "id": "Ou-uj-Z1klaE",
        "colab": {
          "base_uri": "https://localhost:8080/"
        },
        "outputId": "d39ceb7f-ab9c-42c5-e73d-6f896b070123"
      },
      "outputs": [
        {
          "output_type": "stream",
          "name": "stderr",
          "text": [
            "[nltk_data] Downloading package punkt_tab to /root/nltk_data...\n",
            "[nltk_data]   Package punkt_tab is already up-to-date!\n"
          ]
        },
        {
          "output_type": "execute_result",
          "data": {
            "text/plain": [
              "['I', 'do', \"n't\", 'we', \"'ll\", 'what', 'to', 'say', 'need', \"n't\"]"
            ]
          },
          "metadata": {},
          "execution_count": 9
        }
      ],
      "source": [
        "import nltk\n",
        "nltk.download('punkt_tab') # <— installs the tokenizer NLTK is trying to load\n",
        "\n",
        "word_tokenize(\"I don't we'll what to say needn't\")"
      ]
    },
    {
      "cell_type": "code",
      "execution_count": 19,
      "metadata": {
        "id": "S61cpfB5Gn9O"
      },
      "outputs": [],
      "source": [
        "import json\n",
        "\n",
        "#utterances_in_conversation = []\n",
        "\n",
        "def transcript_statistics(\n",
        "    path_transcript: str) -> Tuple[int, float, float, int, int]:\n",
        "  \"\"\"Get transcript statistics.\n",
        "\n",
        "  Args:\n",
        "    path_transcript: Path to transcript directory.\n",
        "\n",
        "  Returns:\n",
        "    Total number of utterances, Mean number of agent utterances per conversation,\n",
        "    Mean number of caller utterances per conversation, total number of words,\n",
        "    Number of unique words\n",
        "  \"\"\"\n",
        "  #############################\n",
        "  #### YOUR CODE GOES HERE ####\n",
        "  json_data = []\n",
        "\n",
        "  # files is a list with all the json files in the transcript folder\n",
        "  json_files = os.listdir(path_transcript)\n",
        "\n",
        "  # each file is one conversation\n",
        "  for json_file in json_files:\n",
        "    file_path = os.path.join(path_transcript, json_file)\n",
        "    # loading each conversation i.e. json file, which is a list of json objects\n",
        "    with open(file_path, 'r') as file:\n",
        "      data = json.load(file)\n",
        "      json_data.append(data)\n",
        "      #print(f\"Successfully uploaded {file_path}\")\n",
        "\n",
        "  total_utterances = 0\n",
        "  total_agent_utterances = 0\n",
        "  total_caller_utterances = 0\n",
        "  utterances_in_conversation = []\n",
        "  words_in_conversation = []\n",
        "  unique_words = set()\n",
        "\n",
        "  for conversation in json_data:\n",
        "    # each json object in the list of json objects is accessed\n",
        "\n",
        "    for segment in conversation:\n",
        "      words_in_conversation.append(segment[\"human_transcript\"])\n",
        "      if segment[\"speaker_role\"] =='agent':\n",
        "        total_agent_utterances += 1\n",
        "      else:\n",
        "        total_caller_utterances += 1\n",
        "\n",
        "    utterances_in_conversation.append(total_agent_utterances + total_caller_utterances)\n",
        "\n",
        "  total_utterances = total_agent_utterances + total_caller_utterances\n",
        "  mean_agent_utterances = total_agent_utterances/len(json_files)\n",
        "  mean_caller_utterances = total_caller_utterances/len(json_files)\n",
        "  total_words = len(words_in_conversation)\n",
        "  unique_words = len(set(words_in_conversation))\n",
        "\n",
        "  stats = (total_utterances, mean_agent_utterances, mean_caller_utterances, total_words, unique_words)\n",
        "\n",
        "  plt.hist(utterances_in_conversation, bins=30)\n",
        "  plt.xlabel('Utterances')\n",
        "  plt.ylabel('Frequency')\n",
        "  plt.title('Distribution of utterances')\n",
        "  plt.tight_layout()\n",
        "  plt.show()\n",
        "\n",
        "  return stats\n",
        "\n",
        "  #############################"
      ]
    },
    {
      "cell_type": "code",
      "execution_count": 20,
      "metadata": {
        "id": "VPkn43CnBRBj",
        "colab": {
          "base_uri": "https://localhost:8080/",
          "height": 505
        },
        "outputId": "e07a354f-507d-46bb-e1b9-3a9942af710e"
      },
      "outputs": [
        {
          "output_type": "display_data",
          "data": {
            "text/plain": [
              "<Figure size 640x480 with 1 Axes>"
            ],
            "image/png": "[encoded data removed]"
          },
          "metadata": {}
        },
        {
          "output_type": "execute_result",
          "data": {
            "text/plain": [
              "(25730, 9.195712309820193, 8.59820193637621, 25730, 7248)"
            ]
          },
          "metadata": {},
          "execution_count": 20
        }
      ],
      "source": [
        "a = transcript_statistics(transcript_path)\n",
        "a"
      ]
    },
    {
      "cell_type": "markdown",
      "metadata": {
        "id": "cimtUp3PJRkc"
      },
      "source": [
        "##### <ins>**Task 1.3**</ins>**: Distribution of Utterances (5 points)**\n",
        "\n",
        "Plot the distribution of number of utterances per conversation and\n",
        "And tell us the average number of utterances per conversation.\n",
        "\n",
        "- `X`-axis: Number of utterances in a conversation\n",
        "\n",
        "- `Y`-axis: Number of transcipts with that number of utterances"
      ]
    },
    {
      "cell_type": "code",
      "execution_count": 11,
      "metadata": {
        "id": "A1zyb1n0JZgr",
        "colab": {
          "base_uri": "https://localhost:8080/",
          "height": 487
        },
        "outputId": "3f77b837-ee4d-4c5d-effd-2e4c061e2889"
      },
      "outputs": [
        {
          "output_type": "display_data",
          "data": {
            "text/plain": [
              "<Figure size 640x480 with 1 Axes>"
            ],
            "image/png": "[encoded data removed]"
          },
          "metadata": {}
        }
      ],
      "source": [
        "#############################\n",
        "#### YOUR CODE GOES HERE ####\n",
        "# Plot histogram: X - Utterances in individual conversation, Y - Count of utterances\n",
        "\n",
        "plt.hist(utterances_in_conversation, bins=30)\n",
        "plt.xlabel('Utterances')\n",
        "plt.ylabel('Frequency')\n",
        "plt.title('Distribution of utterances')\n",
        "plt.tight_layout()\n",
        "plt.show()\n",
        "\n",
        "#############################"
      ]
    },
    {
      "cell_type": "markdown",
      "metadata": {
        "id": "vP_9B4nDSwuJ"
      },
      "source": [
        "##### <ins>**Task 1.4**</ins>**: Distribution of Tasks (5 points)**\n",
        "\n",
        "Plot a histogram of the distribution of tasks. Each metadata file describes the call center scenario for a conversation, and we will focus on the **tasks** field for this analysis. Hint: Each conversation has exactly one task.\n",
        "\n",
        "**tasks:** field indicates the customer’s goal/intent in the conversation. There are 8 tasks: _order checks, check balance, replace card, reset password, get branch hours, pay bill, schedule appointment, and transfer money_. (`X`: Eight tasks, `Y`: Number of conversations)"
      ]
    },
    {
      "cell_type": "code",
      "execution_count": null,
      "metadata": {
        "id": "N7vVC_qJTqpT",
        "colab": {
          "base_uri": "https://localhost:8080/",
          "height": 553
        },
        "outputId": "aa426932-2936-44b5-b849-06f9606fa724"
      },
      "outputs": [
        {
          "output_type": "display_data",
          "data": {
            "text/plain": [
              "<Figure size 640x480 with 1 Axes>"
            ],
            "image/png": "[encoded data removed]"
          },
          "metadata": {}
        }
      ],
      "source": [
        "task_names = ['order checks', 'check balance', 'replace card', 'reset password', 'get branch hours', 'pay bill', 'schedule appointment', 'transfer money']\n",
        "\n",
        "#############################\n",
        "#### YOUR CODE GOES HERE ####\n",
        "\n",
        "metadata_files = os.listdir(metadata_path)\n",
        "json_data = []\n",
        "for file in metadata_files:\n",
        "  file_path = os.path.join(metadata_path, file)\n",
        "  with open(file_path, 'r') as file:\n",
        "    data = json.load(file)\n",
        "    json_data.append(data)\n",
        "\n",
        "\n",
        "tasks = []\n",
        "for conversation in json_data:\n",
        "  # each json object in the list of json objects is accessed\n",
        "  tasks.append(conversation[\"tasks\"][0][\"task_type\"])\n",
        "\n",
        "plt.hist(tasks, bins = 30)\n",
        "plt.xlabel(\"Task_type\")\n",
        "plt.ylabel(\"Number of conversations\")\n",
        "plt.title(\"Distribution of tasks\")\n",
        "plt.xticks(rotation=45, ha='right', fontsize = 8)  # Rotate by 45 degrees and align text\n",
        "plt.show()\n",
        "\n",
        "\n",
        "#############################"
      ]
    },
    {
      "cell_type": "markdown",
      "metadata": {
        "id": "dGzcWYiJSy4e"
      },
      "source": [
        "##### <ins>**Task 1.5**</ins>**: Distribution of Dialog Actions (5 points)**\n",
        "\n",
        "→ Plot a histogram showing the distribution of dialog actions across all utterances.\n",
        "\n",
        "- Use the \"dialog_acts\" field from each transcript JSON file.\n",
        "- Important: Each dialog act label begins with \"gridspace_\" (e.g., \"gridspace_greeting\").\n",
        "  - For the plot, remove the \"gridspace_\" prefix and keep only the core action name (e.g., plot \"greeting\" instead of \"gridspace_greeting\").\n",
        "\n",
        "- Plot Details:\n",
        "\n",
        " - X-axis: Dialog action classes (after removing \"gridspace_\").\n",
        "\n",
        " - Y-axis: Number of utterances for each dialog action.\n",
        "\n",
        "→ What can you infer from the plot?"
      ]
    },
    {
      "cell_type": "code",
      "execution_count": 18,
      "metadata": {
        "id": "q_nsJaYZS9yP",
        "colab": {
          "base_uri": "https://localhost:8080/",
          "height": 640
        },
        "outputId": "0f006082-bf2d-486c-9e64-a4528330a31f"
      },
      "outputs": [
        {
          "output_type": "display_data",
          "data": {
            "text/plain": [
              "<Figure size 1200x600 with 1 Axes>"
            ],
            "image/png": "[encoded data removed]"
          },
          "metadata": {}
        },
        {
          "output_type": "execute_result",
          "data": {
            "text/plain": [
              "'\\n{\\n    \"channel_index\": 2,\\n    \"dialog_acts\": [\\n        \"gridspace_greeting\"\\n    ],\\n    \"duration_ms\": 2280,\\n    \"emotion\": {\\n        \"neutral\": 0.33766093850135803,\\n        \"negative\": 0.024230705574154854,\\n        \"positive\": 0.6381083130836487\\n    },\\n    \"human_transcript\": \"hello this is harper valley national bank\",\\n    \"index\": 1,\\n    \"offset_ms\": 5990,\\n    \"speaker_role\": \"agent\",\\n    \"start_ms\": 3990,\\n    \"start_timestamp_ms\": 1591056064136,\\n    \"transcript\": \"hello this is harper valley national bank\",\\n    \"word_durations_ms\": [\\n        330,\\n        150,\\n        120,\\n        330,\\n        270,\\n        420,\\n        330\\n    ],\\n    \"word_offsets_ms\": [\\n        0,\\n        660,\\n        810,\\n        930,\\n        1260,\\n        1530,\\n        1950\\n    ]\\n}\\n'"
            ],
            "application/vnd.google.colaboratory.intrinsic+json": {
              "type": "string"
            }
          },
          "metadata": {},
          "execution_count": 18
        }
      ],
      "source": [
        "#############################\n",
        "#### YOUR CODE GOES HERE ####\n",
        "\n",
        "\n",
        "metadata_files = os.listdir(transcript_path)\n",
        "json_data = []\n",
        "for filename in metadata_files:  # Changed 'file' to 'filename'\n",
        "    file_path = os.path.join(transcript_path, filename)\n",
        "    with open(file_path, 'r') as file:\n",
        "        data = json.load(file)\n",
        "        json_data.append(data)\n",
        "\n",
        "tasks = []\n",
        "# Iterate through each conversation (which is a list of segments)\n",
        "for conversation_segments in json_data:\n",
        "    # Iterate through each segment within the conversation\n",
        "    for segment in conversation_segments:\n",
        "        # Check if 'dialog_acts' key exists and is not empty\n",
        "        if \"dialog_acts\" in segment and segment[\"dialog_acts\"]:\n",
        "            # Assuming only the first dialog act is needed for the plot\n",
        "            dialog_act = segment[\"dialog_acts\"][0]\n",
        "            # Remove the \"gridspace_\" prefix\n",
        "            cleaned_act = dialog_act.split('_')[-1] # Use -1 in case of multiple underscores\n",
        "            tasks.append(cleaned_act)\n",
        "\n",
        "# For categorical data, let matplotlib choose appropriate bins\n",
        "plt.figure(figsize=(12, 6))  # Make figure wider for better readability\n",
        "# Use bar plot for clearer visualization of counts per category\n",
        "plt.hist(tasks, bins=len(set(tasks))) # Still using hist, but specify bins for categorical data\n",
        "plt.xlabel(\"Dialog actions\")\n",
        "plt.ylabel(\"Number of utterances\") # Y-axis represents count of utterances, not conversations\n",
        "plt.title(\"Distribution of dialog actions across utterances\")\n",
        "plt.xticks(rotation=45, ha='right', fontsize=8)\n",
        "plt.tight_layout()  # Prevents label cutoff\n",
        "plt.show()\n",
        "\n",
        "\n",
        "\"\"\"\n",
        "{\n",
        "    \"channel_index\": 2,\n",
        "    \"dialog_acts\": [\n",
        "        \"gridspace_greeting\"\n",
        "    ],\n",
        "    \"duration_ms\": 2280,\n",
        "    \"emotion\": {\n",
        "        \"neutral\": 0.33766093850135803,\n",
        "        \"negative\": 0.024230705574154854,\n",
        "        \"positive\": 0.6381083130836487\n",
        "    },\n",
        "    \"human_transcript\": \"hello this is harper valley national bank\",\n",
        "    \"index\": 1,\n",
        "    \"offset_ms\": 5990,\n",
        "    \"speaker_role\": \"agent\",\n",
        "    \"start_ms\": 3990,\n",
        "    \"start_timestamp_ms\": 1591056064136,\n",
        "    \"transcript\": \"hello this is harper valley national bank\",\n",
        "    \"word_durations_ms\": [\n",
        "        330,\n",
        "        150,\n",
        "        120,\n",
        "        330,\n",
        "        270,\n",
        "        420,\n",
        "        330\n",
        "    ],\n",
        "    \"word_offsets_ms\": [\n",
        "        0,\n",
        "        660,\n",
        "        810,\n",
        "        930,\n",
        "        1260,\n",
        "        1530,\n",
        "        1950\n",
        "    ]\n",
        "}\n",
        "\"\"\"\n",
        "\n",
        "#############################"
      ]
    },
    {
      "cell_type": "markdown",
      "metadata": {
        "id": "ucjiVjaJPrl-"
      },
      "source": [
        "##### <ins>**Task 1.6**</ins>**: Distribution of Emotions (5 points)**\n",
        "\n",
        "→ Plot boxplots to visualize the distribution of emotion probabilities across all utterances.\n",
        "- Use the \"emotion\" field from each transcript JSON file.\n",
        "- Each utterance contains three emotion classes: neutral, positive, and negative, each associated with a probability (i.e., softmax output).\n",
        "- For each emotion category, collect the probability scores across all utterances and plot a boxplot.\n",
        "- Plot Details:\n",
        "  - X-axis: Emotion classes (neutral, positive, negative)\n",
        "  - Y-axis: Probability values for each class.\n",
        "\n",
        "→ What can you infer from the plot?"
      ]
    },
    {
      "cell_type": "code",
      "execution_count": null,
      "metadata": {
        "id": "jz4W3TJpPrAl"
      },
      "outputs": [],
      "source": [
        "#############################\n",
        "#### YOUR CODE GOES HERE ####\n",
        "\n",
        "#############################"
      ]
    },
    {
      "cell_type": "markdown",
      "metadata": {
        "id": "UFKjz0Ytsn3a"
      },
      "source": [
        "# Part 2: Implementing CTC Loss\n",
        "\n",
        "We introduce the Connectionist Temporal Classification (CTC) objective, which is a popular objective used to train neural networks to do speech recognition. Critically, it does not require you to know the alignments between inputs and outputs.\n",
        "\n",
        "#### **Summary of CTC**\n",
        "\n",
        "We highlight some of the main features of the CTC objective.\n",
        "\n",
        "- Given a sequence of inputs `x_1, x_2, .., x_T`, an ASR model will map each of these to a probability of an alphabet of C tokens: `p_1, p_2, ..., p_T`. For example, if we are decoding to three possible characters, the probabilities for timestep `t` could look like `p_t = [0.3, 0.2, 0.5]`.\n",
        "\n",
        "- We also have a sequence of symbol targets `y_1, y_2, ..., y_S` (note `S <= T`). Each `y_s` is a number from `0` to `C-1` (e.g. one of the characters).\n",
        "\n",
        "- The main strategy is to decode each `x_t` to a predicted character `y'_t`. For example, `x_1, x_2, ..., x_6 -> c c a a a t`. This mapping is called an **alignment**. Then we can collapse repetitions to get `c a t` as the predicted output sequence. This simple strategy has some problems: how do you handle silences or repeated characters?\n",
        "\n",
        "- CTC adds a special `blank` token. We'll call this `eps`. Now consider this example, `x_1, x_2, ..., x_12 -> h h e eps eps l l l eps l l o`. Now we can collapse everything in between each `eps` to get `h e eps l eps l o`. Removing blank tokens, we get the prediction `hello`.\n",
        "\n",
        "- For an output sequence, there are many \"valid\" alignments. For example, given an input sequence `x_1, ..., x_6` and an output sequence `c a t`, valid alignments include `eps c c eps a t`, `c c a a t t`, or `c a eps eps eps t`. Example of invalid alignments include `c eps c eps a t`, `c c a a t` (too short if the input sequence has 6 tokens), and `c eps eps eps t t`.\n",
        "\n",
        "- Let `A` represent all valid alignments of an output sequence to an input sequence. A simplified pseudocode for the CTC objective might look like:\n",
        "\n",
        "```\n",
        "all_log_prob = 0\n",
        "\n",
        "for each (a_1, a_2, ..., a_S) in A:\n",
        "\n",
        "    log_prob = 0\n",
        "\n",
        "    for t in 1 to T:\n",
        "        # The alignment a_s has a specific output character for input position t\n",
        "        log_prob_t = log p(a_(s,t) | x_1, ..., x_T)\n",
        "        # compute the joint probability by multiplying independent time steps\n",
        "        # Adding in log space to avoid underflow\n",
        "        log_prob += log_prob_t\n",
        "\n",
        "    all_log_prob += log_prob\n",
        "```\n",
        "That is, the CTC loss computes the probability of all possible alignments. Please note that the pseudocode above is for intuition. In practice, it is often too slow to enumerate over `A` explicitly.\n",
        "\n",
        "As an example, for an output sequence of length 50 (without any repeated characters) and an input sequence of length 100, the number of unique alignments is almost 10^40.\n",
        "\n",
        "#### **Dynamic Programming in CTC**\n",
        "\n",
        "In class, we introduced the \"forward algorithm\" to tractably compute likelihoods for HMMs. We can do something similar to score alignments more efficiently than manually enumerating over the full set.\n",
        "\n",
        "In other words, we can do dynamic programming. Since many alignments share partial sub-sequences, we can  store the `log_prob` for all sub-sequences we have seen so far. This allows us to reuse computation when computing the likelihood for a new sequence.\n",
        "\n",
        "The logic is as follows:\n",
        "\n",
        "Recall `X` is the input sequence of maximum length `T` and `Y` is the output sequence of maximum length `S`. Build a new sequence `Z` that adds a blank token between every character.\n",
        "\n",
        "```\n",
        "Y = [y_1, y_2, ..., y_S]\n",
        "Z = [eps, y_1, eps, y_2, ..., eps, y_S, eps]\n",
        "  = [z_1, z_2, z_3, z_4, ..., z_2S-1, z_2S, z_2S+1]\n",
        "```\n",
        "Note that the length of `Z` is now `2S+1`.\n",
        "\n",
        "**Step 1: Make a Cache.**\n",
        "\n",
        "Instantiate a matrix of size `T x (2S+1)`. Call this matrix `C`. The index `C[t][s]` represents a probability score for the subsequence `z_1, ..., z_s` after observing `x_1, ..., x_t`. That is, `C[t][s] = p(y_1, ..., y_s/2 | x_1, ..., x_t)`.\n",
        "\n",
        "**Step 2: Make an Update Rule.**\n",
        "\n",
        "The goal of dynamic programming is to reuse `C[t-1]` in computing `C[t]`. To do that, we need to define an update rule. There are two cases depending on what  the token `z_s` is.\n",
        "\n",
        "- <ins>Case 1</ins>: `z_s` is a blank token OR `z_s = z_s-2`. This is the standard forward algorithm update. We build `p(z_1, ..., z_s|x_1, ..., x_t)` using two parts: `p(z_1, ..., z_s|x_1, ..., x_t-1)` and `p(z_1, ..., z_s-1|x_1, ..., x_t-1)`. Assuming an increasing order of `t` and `s`, these two parts will already have been computed. (If `s = 0` you can ignore the `C[t-1][s-1]` term. If `t = 0`, set `C[t][s] = p(z_s | x_1, ..., x_t)`.)\n",
        "```\n",
        "C[t][s] = (C[t-1][s-1] + C[t-1][s]) * p(z_s | x_1, ..., x_t)\n",
        "```\n",
        "In other words, `C[t-1][s-1]` and `C[t-1][s]` are known. The prediction for `p(z_s | x_1, ..., x_t)` is known (e.g. `log_probs`).\n",
        "\n",
        "- <ins>Case 2</ins>: `z_s` is not a blank token AND `z_s != z_s-2`. The tricky part is to notice that `z_s-1` is a blank token. Since our Markov assumption says `y_t` should depend on `y_t-1`, which means `z_s` should depend on both `z_s-1` and `z_s-2` (since we artificially added `z_s-1`). Similarly, ignore terms that do not exist.\n",
        "```\n",
        "C[t][s] = (C[t-1][s-2] + C[t-1][s-1] + C[t-1][s]) * p(z_s | x_1, ..., x_t)\n",
        "```\n",
        "\n",
        "Now, we still need two for loops to loop over `1 ... T` and `1 ... S` but this is usually much cheaper than looping over alignments.\n",
        "\n",
        "```\n",
        "C = init_cache(T, S)\n",
        "for t in 1 to T:\n",
        "  for s in 1 to 2S+1:\n",
        "    C = do_update(t, s, C)\n",
        "\n",
        "p_y_given_x = C[-1][-1] + C[-1][-2]  # sum the probability of the last epsilon and last non-epsilon tokens\n",
        "```\n",
        "\n",
        "For more information, refer to this [blog](https://distill.pub/2017/ctc/) or the original [paper](https://www.cs.toronto.edu/~graves/icml_2006.pdf) by Alex Graves.\n",
        "\n"
      ]
    },
    {
      "cell_type": "markdown",
      "metadata": {
        "id": "RBsN5YSz98CA"
      },
      "source": [
        "##### <ins>**Task 2.1**</ins>**: Implement CTC on your own and demonstrate your implementation [30 points]**\n",
        "\n",
        "Please write the function in PyTorch that given a minibatch of model predicted probabilities and a minibatch of output sequences, computes the CTC objective.\n",
        "\n",
        "**Note:** You cannot use the built-in `F.ctc_loss` in PyTorch. We will use this fast library for experiments in HW4.\n",
        "\n"
      ]
    },
    {
      "cell_type": "code",
      "execution_count": null,
      "metadata": {
        "id": "-zSVCxbF-ydG"
      },
      "outputs": [],
      "source": [
        "def ctc_loss(\n",
        "    log_probs: torch.FloatTensor, targets: torch.LongTensor,\n",
        "    input_lengths: torch.LongTensor, target_lengths: torch.LongTensor,\n",
        "    blank: int = 0) -> torch.Tensor:\n",
        "  \"\"\"Connectionist Temporal Classification implementation.\n",
        "\n",
        "  Args:\n",
        "    log_probs: The log-beliefs returned by an ASR model.\n",
        "      This is `log p(a_t | x_1, ..., x_T)`.\n",
        "      (Shape: T x batch_size x C, where T is a maximum input sequence length and\n",
        "      C is the alphabet size (including blank))\n",
        "\n",
        "    targets: Sequence of contiguous output labels (no blanks).\n",
        "      This is `y_1, ..., y_S`.\n",
        "      (Shape: batch_size x S, where S is a maximum output sequence length)\n",
        "\n",
        "    input_lengths: Lengths of each example in minibatch (<= T).\n",
        "      (Shape: batch_size)\n",
        "\n",
        "    target_lengths: Lengths of each target in minibatch (<= S).\n",
        "      (Shape: batch_size)\n",
        "\n",
        "    blank: The \"epsilon\" token that is used to represent silence.\n",
        "      (integer <= C, default 0)\n",
        "\n",
        "  Returns:\n",
        "    CTC loss averaged over minibatch.\n",
        "  \"\"\"\n",
        "  #############################\n",
        "  #### YOUR CODE GOES HERE ####\n",
        "\n",
        "  batch_size = targets.shape[0]\n",
        "  log_probs_reshaped = log_probs.permute(1, 0, 2)\n",
        "\n",
        "  total_loss = 0.0\n",
        "\n",
        "  for batch_idx in range(batch_size):\n",
        "    input_length = input_lengths[batch_idx].item()\n",
        "    target_length = target_lengths[batch_idx].item()\n",
        "    target = targets[batch_idx, :target_length]\n",
        "    log_probs_batch = log_probs_reshaped[batch_idx, :input_length]\n",
        "\n",
        "    # Step 1: Make a Cache C of size T x (2S+1)\n",
        "    C = torch.zeros((input_length, 2 * target_length + 1), device=log_probs.device)\n",
        "    C.fill_(float('-inf'))  # Initialize with -inf (log(0))\n",
        "\n",
        "    # Create Z sequence by adding blank token between every character\n",
        "    z = torch.zeros(2 * target_length + 1, dtype=torch.long, device=log_probs.device)\n",
        "    for i in range(target_length):\n",
        "      z[2*i+1] = target[i]  # odd indices get target tokens\n",
        "      # even indices remain 0 (blank)\n",
        "\n",
        "    # Initialize first row (t=0)\n",
        "    C[0, 0] = log_probs_batch[0, blank]  # probability of blank\n",
        "    if target_length > 0:\n",
        "      C[0, 1] = log_probs_batch[0, z[1]]  # probability of first character\n",
        "\n",
        "    # Step 2: Apply the update rule using dynamic programming\n",
        "    for t in range(1, input_length):\n",
        "      for s in range(2 * target_length + 1):\n",
        "        current_token = z[s].item()\n",
        "\n",
        "        # Case 1: z_s is blank OR z_s = z_s-2\n",
        "        if s == 0:  # special case for first position (can only come from blank)\n",
        "          C[t, s] = C[t-1, s] + log_probs_batch[t, blank]\n",
        "        elif current_token == blank or (s >= 2 and current_token == z[s-2].item()):\n",
        "          # Add in log space (equivalent to multiply in probability space)\n",
        "          prev_sum = torch.logsumexp(torch.stack([C[t-1, s], C[t-1, s-1]]), dim=0)\n",
        "          C[t, s] = prev_sum + log_probs_batch[t, current_token]\n",
        "        else:\n",
        "          # Case 2: z_s is not blank AND z_s != z_s-2\n",
        "          if s >= 2:\n",
        "            prev_sum = torch.logsumexp(torch.stack([C[t-1, s], C[t-1, s-1], C[t-1, s-2]]), dim=0)\n",
        "          else:\n",
        "            prev_sum = torch.logsumexp(torch.stack([C[t-1, s], C[t-1, s-1]]), dim=0)\n",
        "          C[t, s] = prev_sum + log_probs_batch[t, current_token]\n",
        "\n",
        "    # Sum the probability of the last epsilon and last non-epsilon tokens\n",
        "    if target_length == 0:\n",
        "      batch_loss = -C[input_length-1, 0]\n",
        "    else:\n",
        "      batch_loss = -torch.logsumexp(torch.stack([C[input_length-1, 2*target_length],\n",
        "                                               C[input_length-1, 2*target_length-1]]), dim=0)\n",
        "\n",
        "    total_loss += batch_loss\n",
        "\n",
        "  # Return average loss over minibatch\n",
        "  return total_loss / batch_size\n",
        "  #############################\n",
        "\n",
        "\n",
        "  #############################\n"
      ]
    },
    {
      "cell_type": "markdown",
      "metadata": {
        "id": "0jB1nmtAptMT"
      },
      "source": [
        "Here is a good sanity check. Test you code by checking below that `test` and `soln` are roughly equal. It's okay if your solution is much slower since the Pytorch one is coded in C. However, we will deduct points if you enumerate over all alignments as this is too slow for practical use.\n",
        "\n"
      ]
    },
    {
      "cell_type": "code",
      "execution_count": null,
      "metadata": {
        "id": "FxFcWI49psc_",
        "colab": {
          "base_uri": "https://localhost:8080/"
        },
        "outputId": "fba91c79-090c-44c4-ebd4-b37f5ed98a24"
      },
      "outputs": [
        {
          "output_type": "stream",
          "name": "stdout",
          "text": [
            "116.25522 116.25522\n"
          ]
        }
      ],
      "source": [
        "import torch\n",
        "import torch.nn.functional as F\n",
        "\n",
        "log_probs = torch.randn(50, 16, 20).log_softmax(2).detach().requires_grad_()\n",
        "targets = torch.randint(1, 20, (16, 30), dtype=torch.long)\n",
        "input_lengths = torch.full((16,), 50, dtype=torch.long)\n",
        "target_lengths = torch.randint(10,30,(16,), dtype=torch.long)\n",
        "\n",
        "est = ctc_loss(log_probs, targets, input_lengths, target_lengths, blank=0)\n",
        "soln = torch.mean(F.ctc_loss(log_probs, targets, input_lengths, target_lengths, blank=0, reduction='none'))\n",
        "\n",
        "print(est.detach().numpy(), soln.detach().numpy())"
      ]
    },
    {
      "cell_type": "markdown",
      "metadata": {
        "id": "baSDEXtDqm59"
      },
      "source": [
        "The below code tests your loss function using log_probs and targets we provide. We load the test minibatches by calling `get_test_minibatches()`.\n"
      ]
    },
    {
      "cell_type": "code",
      "execution_count": null,
      "metadata": {
        "id": "N0gCS7qn3GhB"
      },
      "outputs": [],
      "source": [
        "import torch\n",
        "import torch.nn.functional as F\n",
        "import random\n",
        "\n",
        "def get_test_minibatches() -> list:\n",
        "  \"\"\"Get minibatches to test implementation\n",
        "  Returns:\n",
        "    lists of log_probs, targets, input_lengths, target_lengths\n",
        "  \"\"\"\n",
        "  torch.manual_seed(224)\n",
        "  np.random.seed(224)\n",
        "  random.seed(224)\n",
        "\n",
        "  T = np.array([])\n",
        "  C = np.array([])\n",
        "  N = np.array([])\n",
        "  S = 40  # Target sequence length of longest target in batch (padding length)\n",
        "  for i in range(10):\n",
        "    T = np.append(T, random.randint(i+50, i+80))\n",
        "    C = np.append(C, random.randint(int(0.4* T[i]), int(0.8*T[i])))\n",
        "    N = np.append(N, random.randint(int(0.7 *C[i]), int(0.9*C[i])))\n",
        "\n",
        "  log_probs = []\n",
        "  input_lengths = []\n",
        "  target_lengths = [] # 10 x N[i]\n",
        "  targets = []\n",
        "  for i in range(10):\n",
        "    log_probs.append(torch.randn(int(T[i]), int(N[i]), int(C[i])).log_softmax(2).detach().requires_grad_())\n",
        "    input_lengths.append(torch.full((int(N[i]),), fill_value = int(T[i]), dtype=torch.long))\n",
        "    target_lengths.append(torch.randint(low = 1,high = S, size = (int(N[i]),), dtype=torch.long))\n",
        "    targets.append(torch.randint(low = 1, high = int(C[i]), size = (int(N[i]), S), dtype=torch.long))\n",
        "\n",
        "  return log_probs, targets, input_lengths, target_lengths"
      ]
    },
    {
      "cell_type": "code",
      "execution_count": null,
      "metadata": {
        "id": "BT0wjqLZ5Y6O"
      },
      "outputs": [],
      "source": [
        "log_probs, targets, input_lengths, target_lengths = get_test_minibatches()"
      ]
    },
    {
      "cell_type": "code",
      "source": [
        "%pip install -U ipytest"
      ],
      "metadata": {
        "id": "xy54SFtp69ev",
        "colab": {
          "base_uri": "https://localhost:8080/"
        },
        "outputId": "68d907f2-38d6-4141-949b-40bc8d31019d"
      },
      "execution_count": null,
      "outputs": [
        {
          "output_type": "stream",
          "name": "stdout",
          "text": [
            "Requirement already satisfied: ipytest in /usr/local/lib/python3.11/dist-packages (0.14.2)\n",
            "Requirement already satisfied: ipython in /usr/local/lib/python3.11/dist-packages (from ipytest) (7.34.0)\n",
            "Requirement already satisfied: packaging in /usr/local/lib/python3.11/dist-packages (from ipytest) (24.2)\n",
            "Requirement already satisfied: pytest>=5.4 in /usr/local/lib/python3.11/dist-packages (from ipytest) (8.3.5)\n",
            "Requirement already satisfied: iniconfig in /usr/local/lib/python3.11/dist-packages (from pytest>=5.4->ipytest) (2.1.0)\n",
            "Requirement already satisfied: pluggy<2,>=1.5 in /usr/local/lib/python3.11/dist-packages (from pytest>=5.4->ipytest) (1.5.0)\n",
            "Requirement already satisfied: setuptools>=18.5 in /usr/local/lib/python3.11/dist-packages (from ipython->ipytest) (75.2.0)\n",
            "Requirement already satisfied: jedi>=0.16 in /usr/local/lib/python3.11/dist-packages (from ipython->ipytest) (0.19.2)\n",
            "Requirement already satisfied: decorator in /usr/local/lib/python3.11/dist-packages (from ipython->ipytest) (4.4.2)\n",
            "Requirement already satisfied: pickleshare in /usr/local/lib/python3.11/dist-packages (from ipython->ipytest) (0.7.5)\n",
            "Requirement already satisfied: traitlets>=4.2 in /usr/local/lib/python3.11/dist-packages (from ipython->ipytest) (5.7.1)\n",
            "Requirement already satisfied: prompt-toolkit!=3.0.0,!=3.0.1,<3.1.0,>=2.0.0 in /usr/local/lib/python3.11/dist-packages (from ipython->ipytest) (3.0.51)\n",
            "Requirement already satisfied: pygments in /usr/local/lib/python3.11/dist-packages (from ipython->ipytest) (2.19.1)\n",
            "Requirement already satisfied: backcall in /usr/local/lib/python3.11/dist-packages (from ipython->ipytest) (0.2.0)\n",
            "Requirement already satisfied: matplotlib-inline in /usr/local/lib/python3.11/dist-packages (from ipython->ipytest) (0.1.7)\n",
            "Requirement already satisfied: pexpect>4.3 in /usr/local/lib/python3.11/dist-packages (from ipython->ipytest) (4.9.0)\n",
            "Requirement already satisfied: parso<0.9.0,>=0.8.4 in /usr/local/lib/python3.11/dist-packages (from jedi>=0.16->ipython->ipytest) (0.8.4)\n",
            "Requirement already satisfied: ptyprocess>=0.5 in /usr/local/lib/python3.11/dist-packages (from pexpect>4.3->ipython->ipytest) (0.7.0)\n",
            "Requirement already satisfied: wcwidth in /usr/local/lib/python3.11/dist-packages (from prompt-toolkit!=3.0.0,!=3.0.1,<3.1.0,>=2.0.0->ipython->ipytest) (0.2.13)\n"
          ]
        }
      ]
    },
    {
      "cell_type": "code",
      "source": [
        "import ipytest\n",
        "\n",
        "ipytest.autoconfig()"
      ],
      "metadata": {
        "id": "5IQouipz6-DB"
      },
      "execution_count": null,
      "outputs": []
    },
    {
      "cell_type": "markdown",
      "source": [
        "### Testing CTC Loss\n",
        "\n",
        "This test checks your custom `ctc_loss` implementation against the PyTorch reference `F.ctc_loss`.\n",
        "\n",
        "It includes **two checks** for each sample:\n",
        "- **Required Check:** Your loss must match the reference within a loose threshold of ±4.  \n",
        "- **Optional Extra Credit Check:** Your loss must match the reference within a tighter threshold of ±0.1.  "
      ],
      "metadata": {
        "id": "VgOTueDt7CjD"
      }
    },
    {
      "cell_type": "code",
      "source": [
        "%%ipytest\n",
        "\n",
        "def test_ctc_loss():\n",
        "    \"\"\"Required test: student loss should be close within 4.\"\"\"\n",
        "    with torch.no_grad(): # Added to disable gradients here so no backward pass is accidentally traced.\n",
        "      for i in range(len(log_probs)):\n",
        "          student_loss = ctc_loss(\n",
        "              log_probs[i], targets[i], input_lengths[i], target_lengths[i], blank=0\n",
        "          ).detach().cpu().numpy()\n",
        "\n",
        "          reference_loss = F.ctc_loss(\n",
        "              log_probs[i], targets[i], input_lengths[i], target_lengths[i],\n",
        "              blank=0, reduction='none'\n",
        "          ).detach().cpu().numpy().mean()\n",
        "\n",
        "          # Required case\n",
        "          assert abs(student_loss - reference_loss) < 4, \\\n",
        "              f\"[Required test case failed] Sample {i}: student_loss={student_loss}, reference_loss={reference_loss}\"\n",
        "\n",
        "def test_ctc_loss_optional():\n",
        "    \"\"\"Optional extra credit test: student loss should be extremely close within 0.1.\"\"\"\n",
        "    with torch.no_grad(): # Added to disable gradients here so no backward pass is accidentally traced.\n",
        "      for i in range(len(log_probs)):\n",
        "          student_loss = ctc_loss(\n",
        "              log_probs[i], targets[i], input_lengths[i], target_lengths[i], blank=0\n",
        "          ).detach().cpu().numpy()\n",
        "\n",
        "          reference_loss = F.ctc_loss(\n",
        "              log_probs[i], targets[i], input_lengths[i], target_lengths[i],\n",
        "              blank=0, reduction='none'\n",
        "          ).detach().cpu().numpy().mean()\n",
        "\n",
        "          # Optional Extra credit case\n",
        "          assert abs(student_loss - reference_loss) < 0.1, \\\n",
        "              f\"[Optional Extra credit test case failed] Sample {i}: student_loss={student_loss}, reference_loss={reference_loss}\""
      ],
      "metadata": {
        "id": "jwR8txHQ7Csq",
        "colab": {
          "base_uri": "https://localhost:8080/"
        },
        "outputId": "e154ea0a-36b9-492a-c6be-222d7d8a0622"
      },
      "execution_count": null,
      "outputs": [
        {
          "output_type": "stream",
          "name": "stdout",
          "text": [
            "\u001b[32m.\u001b[0m\u001b[32m.\u001b[0m\u001b[32m                                                                                           [100%]\u001b[0m\n",
            "\u001b[32m\u001b[32m\u001b[1m2 passed\u001b[0m\u001b[32m in 171.23s (0:02:51)\u001b[0m\u001b[0m\n"
          ]
        }
      ]
    },
    {
      "cell_type": "markdown",
      "metadata": {
        "id": "Ve2yJL3BiPK5"
      },
      "source": [
        "This is the end of Part 1 & 2. Great work!"
      ]
    }
  ],
  "metadata": {
    "colab": {
      "provenance": [],
      "include_colab_link": true
    },
    "kernelspec": {
      "display_name": "Python 3",
      "name": "python3"
    }
  },
  "nbformat": 4,
  "nbformat_minor": 0
}
